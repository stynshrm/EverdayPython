{
 "cells": [
  {
   "cell_type": "code",
   "execution_count": 1,
   "metadata": {},
   "outputs": [
    {
     "name": "stdout",
     "output_type": "stream",
     "text": [
      "<__main__.Employee object at 0x7ff61a7f78d0>\n",
      "<__main__.Employee object at 0x7ff61a7f7d90>\n"
     ]
    }
   ],
   "source": [
    "class Employee:\n",
    "    pass\n",
    "\n",
    "emp_1 = Employee()\n",
    "emp_2 = Employee()\n",
    "\n",
    "print(emp_1)\n",
    "print(emp_2)"
   ]
  },
  {
   "cell_type": "code",
   "execution_count": 2,
   "metadata": {},
   "outputs": [
    {
     "name": "stdout",
     "output_type": "stream",
     "text": [
      "XXX.yyy@mail.com\n",
      "YYY.xxx@mail.com\n"
     ]
    }
   ],
   "source": [
    "#add attributes outside the class\n",
    "\n",
    "emp_1.first = \"XXX\"\n",
    "emp_1.last = \"yyy\"\n",
    "emp_1.email = \"XXX.yyy@mail.com\"\n",
    "\n",
    "emp_2.first = \"YYY\"\n",
    "emp_2.last = \"xxx\"\n",
    "emp_2.email = \"YYY.xxx@mail.com\"\n",
    "\n",
    "print(emp_1.email)\n",
    "print(emp_2.email)"
   ]
  },
  {
   "cell_type": "markdown",
   "metadata": {},
   "source": [
    "### 1. __init__ : the python constructuor"
   ]
  },
  {
   "cell_type": "code",
   "execution_count": 4,
   "metadata": {},
   "outputs": [
    {
     "name": "stdout",
     "output_type": "stream",
     "text": [
      "XXX.yyy@mail.com\n",
      "YYY.xxx@mail.com\n"
     ]
    }
   ],
   "source": [
    "class NewEmployee:\n",
    "    \n",
    "    def __init__(self, first, last, pay):\n",
    "        self.first = first\n",
    "        self.last = last\n",
    "        self.pay = pay\n",
    "        self.email = first + \".\" + last + \"@mail.com\"\n",
    "\n",
    "\n",
    "emp_3 = NewEmployee(\"XXX\", \"yyy\", 2000)\n",
    "emp_4 = NewEmployee(\"YYY\", \"xxx\", 4000)\n",
    "\n",
    "print(emp_3.email)\n",
    "print(emp_4.email)"
   ]
  },
  {
   "cell_type": "markdown",
   "metadata": {},
   "source": [
    "###  2. class method "
   ]
  },
  {
   "cell_type": "code",
   "execution_count": 5,
   "metadata": {},
   "outputs": [
    {
     "name": "stdout",
     "output_type": "stream",
     "text": [
      "XXXyyy\n"
     ]
    }
   ],
   "source": [
    "# Lests print the name\n",
    "print(f\"{emp_3.first}{emp_3.last}\")"
   ]
  },
  {
   "cell_type": "code",
   "execution_count": 7,
   "metadata": {},
   "outputs": [
    {
     "name": "stdout",
     "output_type": "stream",
     "text": [
      "XXXyyy\n"
     ]
    }
   ],
   "source": [
    "class NewEmp:\n",
    "    \n",
    "    def __init__(self, first, last, pay):\n",
    "        self.first = first\n",
    "        self.last = last\n",
    "        self.pay = pay\n",
    "        self.email = first + \".\" + last + \"@mail.com\"\n",
    "     \n",
    "    def fullname(self):\n",
    "        return f\"{self.first}{self.last}\"\n",
    "    \n",
    "\n",
    "\n",
    "emp_3 = NewEmp(\"XXX\", \"yyy\", 2000)\n",
    "emp_4 = NewEmp(\"YYY\", \"xxx\", 4000)\n",
    "\n",
    "print(emp_3.fullname())"
   ]
  },
  {
   "cell_type": "markdown",
   "metadata": {},
   "source": [
    "#### self, pass an instance"
   ]
  },
  {
   "cell_type": "code",
   "execution_count": 11,
   "metadata": {},
   "outputs": [
    {
     "name": "stdout",
     "output_type": "stream",
     "text": [
      "XXXyyy\n",
      "YYYxxx\n"
     ]
    }
   ],
   "source": [
    "print(NewEmp.fullname(emp_3))\n",
    "print(NewEmp.fullname(emp_4))"
   ]
  },
  {
   "cell_type": "markdown",
   "metadata": {},
   "source": [
    "### 3. Class variables "
   ]
  },
  {
   "cell_type": "code",
   "execution_count": 16,
   "metadata": {},
   "outputs": [
    {
     "name": "stdout",
     "output_type": "stream",
     "text": [
      "4000\n",
      "4160\n"
     ]
    }
   ],
   "source": [
    "class NewEmp:\n",
    "    \n",
    "    raise_by = 1.04\n",
    "    \n",
    "    def __init__(self, first, last, pay):\n",
    "        self.first = first\n",
    "        self.last = last\n",
    "        self.pay = pay\n",
    "        self.email = first + \".\" + last + \"@mail.com\"\n",
    "     \n",
    "    def fullname(self):\n",
    "        return f\"{self.first}{self.last}\"\n",
    "    \n",
    "    def apply_raise(self):\n",
    "#         self.pay = int(self.pay * NewEmp.raise_by) # or \n",
    "        self.pay = int(self.pay * self.raise_by) # calling apply_raise checks if instance or parent class has raise_by variable\n",
    "\n",
    "emp_3 = NewEmp(\"XXX\", \"yyy\", 4000)\n",
    "emp_4 = NewEmp(\"YYY\", \"xxx\", 4000)\n",
    "\n",
    "print(emp_4.pay)\n",
    "emp_4.apply_raise()\n",
    "print(emp_4.pay)"
   ]
  },
  {
   "cell_type": "code",
   "execution_count": 17,
   "metadata": {},
   "outputs": [
    {
     "name": "stdout",
     "output_type": "stream",
     "text": [
      "1.04\n"
     ]
    }
   ],
   "source": [
    "print(NewEmp.raise_by)"
   ]
  },
  {
   "cell_type": "code",
   "execution_count": 20,
   "metadata": {},
   "outputs": [
    {
     "name": "stdout",
     "output_type": "stream",
     "text": [
      "{'first': 'YYY', 'last': 'xxx', 'pay': 4160, 'email': 'YYY.xxx@mail.com'}\n"
     ]
    }
   ],
   "source": [
    "# check namesapces does not has raise_by variable\n",
    "print(emp_4.__dict__)"
   ]
  },
  {
   "cell_type": "code",
   "execution_count": 21,
   "metadata": {},
   "outputs": [
    {
     "name": "stdout",
     "output_type": "stream",
     "text": [
      "{'__module__': '__main__', 'raise_by': 1.04, '__init__': <function NewEmp.__init__ at 0x7ff6199fe830>, 'fullname': <function NewEmp.fullname at 0x7ff6199fe7a0>, 'apply_raise': <function NewEmp.apply_raise at 0x7ff6199fe710>, '__dict__': <attribute '__dict__' of 'NewEmp' objects>, '__weakref__': <attribute '__weakref__' of 'NewEmp' objects>, '__doc__': None}\n"
     ]
    }
   ],
   "source": [
    "# check namesapces \n",
    "print(NewEmp.__dict__)"
   ]
  },
  {
   "cell_type": "markdown",
   "metadata": {},
   "source": [
    "### changing class variable for individual instances from outside"
   ]
  },
  {
   "cell_type": "code",
   "execution_count": 22,
   "metadata": {},
   "outputs": [
    {
     "name": "stdout",
     "output_type": "stream",
     "text": [
      "{'first': 'XXX', 'last': 'yyy', 'pay': 4000, 'email': 'XXX.yyy@mail.com'}\n",
      "{'first': 'YYY', 'last': 'xxx', 'pay': 4160, 'email': 'YYY.xxx@mail.com'}\n"
     ]
    }
   ],
   "source": [
    "print(emp_3.__dict__)\n",
    "print(emp_4.__dict__)"
   ]
  },
  {
   "cell_type": "code",
   "execution_count": 25,
   "metadata": {},
   "outputs": [
    {
     "name": "stdout",
     "output_type": "stream",
     "text": [
      "{'first': 'XXX', 'last': 'yyy', 'pay': 4000, 'email': 'XXX.yyy@mail.com', 'raise_by': 1.2}\n",
      "{'first': 'YYY', 'last': 'xxx', 'pay': 4160, 'email': 'YYY.xxx@mail.com'}\n"
     ]
    }
   ],
   "source": [
    "emp_3.raise_by = 1.20\n",
    "\n",
    "print(emp_3.__dict__)   # now this is has a variable as we have used self.raise_by in the apply_raise method\n",
    "print(emp_4.__dict__)"
   ]
  },
  {
   "cell_type": "markdown",
   "metadata": {},
   "source": [
    "### when to use self or class name for class variables. \n",
    "- In the apply_raise method we could change raise_by for individual employees, \n",
    "- In number of employees, a classname would be the choice, as it has nothng to do with individual employees"
   ]
  },
  {
   "cell_type": "code",
   "execution_count": 26,
   "metadata": {},
   "outputs": [
    {
     "name": "stdout",
     "output_type": "stream",
     "text": [
      "2\n"
     ]
    }
   ],
   "source": [
    "class NewEmp:\n",
    "    \n",
    "    num_of_employees = 0 \n",
    "    raise_by = 1.04\n",
    "    \n",
    "    def __init__(self, first, last, pay):\n",
    "        self.first = first\n",
    "        self.last = last\n",
    "        self.pay = pay\n",
    "        self.email = first + \".\" + last + \"@mail.com\"\n",
    "        NewEmp.num_of_employees += 1\n",
    "     \n",
    "    def fullname(self):\n",
    "        return f\"{self.first}{self.last}\"\n",
    "    \n",
    "    def apply_raise(self):\n",
    "        self.pay = int(self.pay * self.raise_by) \n",
    "        \n",
    "emp_3 = NewEmp(\"XXX\", \"yyy\", 4000)\n",
    "emp_4 = NewEmp(\"YYY\", \"xxx\", 4000)\n",
    "\n",
    "print(NewEmp.num_of_employees)"
   ]
  },
  {
   "cell_type": "code",
   "execution_count": null,
   "metadata": {},
   "outputs": [],
   "source": []
  }
 ],
 "metadata": {
  "kernelspec": {
   "display_name": "Python 3.7.6 64-bit ('base': conda)",
   "language": "python",
   "name": "python37664bitbasecondacf1f62d55c0c4070a6c017803b9533f8"
  },
  "language_info": {
   "codemirror_mode": {
    "name": "ipython",
    "version": 3
   },
   "file_extension": ".py",
   "mimetype": "text/x-python",
   "name": "python",
   "nbconvert_exporter": "python",
   "pygments_lexer": "ipython3",
   "version": "3.7.6"
  }
 },
 "nbformat": 4,
 "nbformat_minor": 4
}
